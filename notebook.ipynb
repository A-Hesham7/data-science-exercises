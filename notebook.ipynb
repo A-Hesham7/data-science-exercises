{
 "cells": [
  {
   "cell_type": "markdown",
   "id": "4a9f3b86-8302-4962-b7e7-515ec42bcf95",
   "metadata": {},
   "source": [
    "# Data Science Tools and Ecosystem"
   ]
  },
  {
   "cell_type": "markdown",
   "id": "897b3b3f-282a-4fee-ab9e-e8a4c4978672",
   "metadata": {},
   "source": [
    "## In this notebook, Data Science Tools and Ecosystem are summarized.\r\n"
   ]
  },
  {
   "cell_type": "markdown",
   "id": "7d8cb87c-9b6d-471c-881c-46ec3f89a3bb",
   "metadata": {},
   "source": [
    "### Some of the popular languages that Data Scientists use are:\r\n",
    "\r\n",
    "1. **Python:** A versatile and easy-to-learn language with powerful libraries for data science such as NumPy, Pandas, and Scikit-learn. \r\n",
    "2. **R:** A language specialized in statistical analysis and graphics, with libraries like dplyr and ggplot2.\r\n",
    "3. **SQL:** Structured Query Language, used for accessing and analyzing data in relational databases. "
   ]
  },
  {
   "cell_type": "markdown",
   "id": "ec8526e2-d19e-4871-823f-e33e12a901d6",
   "metadata": {},
   "source": [
    "### Some of the commonly used libraries used by Data Scientists include:\r\n",
    "\r\n",
    "1. **NumPy (Python):** Provides support for large, multi-dimensional arrays and matrices, along with a collection of mathematical functions to operate on these arrays.\r\n",
    "2. **Pandas (Python):** Offers data structures and operations for manipulating numerical tables and time series. \r\n",
    "3. **Scikit-learn (Python):**  A comprehensive library for machine learning, offering various algorithms for classification, regression, clustering, and more. \r\n",
    "4. **ggplot2 (R):** A powerful library for creating elegant and informative data visualizations with a layered approach. "
   ]
  },
  {
   "cell_type": "markdown",
   "id": "f2269f90-b998-440f-b1b7-f1cf694e244f",
   "metadata": {},
   "source": [
    "| Data Science Tools |\n",
    "| --- |\n",
    "| Jupyter Notebook |\n",
    "| RStudio |\n",
    "| VS Code |"
   ]
  },
  {
   "cell_type": "markdown",
   "id": "bed0f488-a7e5-40b5-89a9-8e0d452ea182",
   "metadata": {},
   "source": [
    "### Below are a few examples of evaluating arithmetic expressions in Python."
   ]
  },
  {
   "cell_type": "code",
   "execution_count": 3,
   "id": "c427dd11-93d0-495a-b111-026904a2fd18",
   "metadata": {},
   "outputs": [
    {
     "data": {
      "text/plain": [
       "17"
      ]
     },
     "execution_count": 3,
     "metadata": {},
     "output_type": "execute_result"
    }
   ],
   "source": [
    "# This is a simple arithmetic expression to multiply then add integers.\n",
    "(3 * 4) + 5"
   ]
  },
  {
   "cell_type": "code",
   "execution_count": 4,
   "id": "9a9d46e4-8239-42d2-8ce8-40fd92ab071d",
   "metadata": {},
   "outputs": [
    {
     "data": {
      "text/plain": [
       "3.3333333333333335"
      ]
     },
     "execution_count": 4,
     "metadata": {},
     "output_type": "execute_result"
    }
   ],
   "source": [
    "# This will convert 200 minutes to hours by dividing by 60.\n",
    "200 / 60"
   ]
  },
  {
   "cell_type": "markdown",
   "id": "753b2839-0411-4a5a-a49e-d6bffac85b94",
   "metadata": {},
   "source": [
    "**Objectives:**\r\n",
    "\r\n",
    "* List popular languages for Data Science.\r\n",
    "* Identify commonly used data science libraries.\r\n",
    "* Recognize open-source development environment tools for data science.\r\n",
    "* Perform basic arithmetic calculations in Python.\r\n",
    "* Convert units of time in Python."
   ]
  },
  {
   "cell_type": "markdown",
   "id": "bdf9ce3b-7bf6-4bab-b71c-51e960da106f",
   "metadata": {
    "jp-MarkdownHeadingCollapsed": true
   },
   "source": [
    "## Author\r\n",
    "\r",
    "Ahmed Hesham Kamel Ghafierre]e]"
   ]
  },
  {
   "cell_type": "code",
   "execution_count": null,
   "id": "a962c3dd-fa42-4cb6-a19e-5fb36cb8fab9",
   "metadata": {},
   "outputs": [],
   "source": []
  }
 ],
 "metadata": {
  "kernelspec": {
   "display_name": "Python 3 (ipykernel)",
   "language": "python",
   "name": "python3"
  },
  "language_info": {
   "codemirror_mode": {
    "name": "ipython",
    "version": 3
   },
   "file_extension": ".py",
   "mimetype": "text/x-python",
   "name": "python",
   "nbconvert_exporter": "python",
   "pygments_lexer": "ipython3",
   "version": "3.11.7"
  }
 },
 "nbformat": 4,
 "nbformat_minor": 5
}
